{
 "cells": [
  {
   "cell_type": "markdown",
   "metadata": {},
   "source": [
    "This project is the gentle introduction of Webscraping using BeautifulSoup and write list to csv file."
   ]
  },
  {
   "cell_type": "code",
   "execution_count": 1,
   "metadata": {},
   "outputs": [],
   "source": [
    "import csv\n",
    "from typing import Dict\n",
    "import requests\n",
    "from bs4 import BeautifulSoup"
   ]
  },
  {
   "cell_type": "code",
   "execution_count": 2,
   "metadata": {},
   "outputs": [],
   "source": [
    "# define functions to:\n",
    "# 1. get movis list\n",
    "# 2. write list to csv file\n",
    "def get_imdb_top_250_movies(url: str = \"\") -> Dict[str, float]:\n",
    "    url = url or \"https://www.imdb.com/chart/top/?ref_=nv_mv_250\"\n",
    "    soup = BeautifulSoup(requests.get(url).text, \"html.parser\")\n",
    "    titles = soup.find_all(\"td\", attrs=\"titleColumn\")\n",
    "    ratings = soup.find_all(\"td\", class_=\"ratingColumn imdbRating\")\n",
    "    return {\n",
    "        title.a.text: float(rating.strong.text)\n",
    "        for title, rating in zip(titles, ratings)\n",
    "    }\n",
    "\n",
    "\n",
    "def write_movies(filename: str = \"IMDb_Top_250_Movies.csv\") -> None:\n",
    "    movies = get_imdb_top_250_movies()\n",
    "    with open(filename, \"w\", newline=\"\") as out_file:\n",
    "        writer = csv.writer(out_file)\n",
    "        writer.writerow([\"Movie title\", \"IMDb rating\"])\n",
    "        for title, rating in movies.items():\n",
    "            writer.writerow([title, rating])\n"
   ]
  },
  {
   "cell_type": "code",
   "execution_count": null,
   "metadata": {},
   "outputs": [],
   "source": [
    "# execution\n",
    "if __name__ == \"__main__\":\n",
    "    write_movies()"
   ]
  }
 ],
 "metadata": {
  "kernelspec": {
   "display_name": "Python 3",
   "language": "python",
   "name": "python3"
  },
  "language_info": {
   "codemirror_mode": {
    "name": "ipython",
    "version": 3
   },
   "file_extension": ".py",
   "mimetype": "text/x-python",
   "name": "python",
   "nbconvert_exporter": "python",
   "pygments_lexer": "ipython3",
   "version": "3.8.3"
  }
 },
 "nbformat": 4,
 "nbformat_minor": 4
}
