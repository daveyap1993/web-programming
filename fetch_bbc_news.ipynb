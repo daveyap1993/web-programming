{
 "cells": [
  {
   "cell_type": "code",
   "execution_count": null,
   "metadata": {},
   "outputs": [],
   "source": [
    "import requests"
   ]
  },
  {
   "cell_type": "code",
   "execution_count": null,
   "metadata": {},
   "outputs": [],
   "source": [
    "# please change _NEWS_API variable to your own API\n",
    "_NEWS_API = \"https://newsapi.org/v1/articles?source=bbc-news&sortBy=top&apiKey=\"\n",
    "\n",
    "\n",
    "def fetch_bbc_news(bbc_news_api_key: str) -> None:\n",
    "    # fetching a list of articles in json format\n",
    "    bbc_news_page = requests.get(_NEWS_API + bbc_news_api_key).json()\n",
    "    # each article in the list is a dict\n",
    "    for i, article in enumerate(bbc_news_page[\"articles\"], 1):\n",
    "        print(f\"{i}.) {article['title']}\")\n"
   ]
  },
  {
   "cell_type": "code",
   "execution_count": null,
   "metadata": {},
   "outputs": [],
   "source": [
    "#execution\n",
    "if __name__ == \"__main__\":\n",
    "    fetch_bbc_news(bbc_news_api_key=\"<Your BBC News API key goes here>\")"
   ]
  }
 ],
 "metadata": {
  "kernelspec": {
   "display_name": "Python 3",
   "language": "python",
   "name": "python3"
  },
  "language_info": {
   "codemirror_mode": {
    "name": "ipython",
    "version": 3
   },
   "file_extension": ".py",
   "mimetype": "text/x-python",
   "name": "python",
   "nbconvert_exporter": "python",
   "pygments_lexer": "ipython3",
   "version": "3.8.3"
  }
 },
 "nbformat": 4,
 "nbformat_minor": 4
}
