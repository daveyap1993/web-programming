{
 "cells": [
  {
   "cell_type": "markdown",
   "metadata": {},
   "source": [
    "# Problem Statement"
   ]
  },
  {
   "cell_type": "markdown",
   "metadata": {},
   "source": [
    "This project is the gentle introduction of Webscraping using BeautifulSoup.\n",
    "\n",
    "This series aims to build a movie recommendation page by using parsing HTML of IMDB top250 movies \n"
   ]
  },
  {
   "cell_type": "code",
   "execution_count": 2,
   "metadata": {},
   "outputs": [],
   "source": [
    "from bs4 import BeautifulSoup\n",
    "import requests"
   ]
  },
  {
   "cell_type": "code",
   "execution_count": 4,
   "metadata": {},
   "outputs": [
    {
     "name": "stdout",
     "output_type": "stream",
     "text": [
      "How many movies would you like to see? 10\n",
      "\n",
      "The Shawshank Redemption\n",
      "\n",
      "Drama            \n",
      "9.3\n",
      "https://www.imdb.com/title/tt0111161/\n",
      "****************************************\n",
      "\n",
      "The Dark Knight\n",
      "\n",
      "Action, Crime, Drama            \n",
      "9.0\n",
      "https://www.imdb.com/title/tt0468569/\n",
      "****************************************\n",
      "\n",
      "Inception\n",
      "\n",
      "Action, Adventure, Sci-Fi            \n",
      "8.8\n",
      "https://www.imdb.com/title/tt1375666/\n",
      "****************************************\n",
      "\n",
      "Fight Club\n",
      "\n",
      "Drama            \n",
      "8.8\n",
      "https://www.imdb.com/title/tt0137523/\n",
      "****************************************\n",
      "\n",
      "Pulp Fiction\n",
      "\n",
      "Crime, Drama            \n",
      "8.9\n",
      "https://www.imdb.com/title/tt0110912/\n",
      "****************************************\n",
      "\n",
      "Forrest Gump\n",
      "\n",
      "Drama, Romance            \n",
      "8.8\n",
      "https://www.imdb.com/title/tt0109830/\n",
      "****************************************\n",
      "\n",
      "The Matrix\n",
      "\n",
      "Action, Sci-Fi            \n",
      "8.7\n",
      "https://www.imdb.com/title/tt0133093/\n",
      "****************************************\n",
      "\n",
      "The Lord of the Rings: The Fellowship of the Ring\n",
      "\n",
      "Action, Adventure, Drama            \n",
      "8.8\n",
      "https://www.imdb.com/title/tt0120737/\n",
      "****************************************\n",
      "\n",
      "The Lord of the Rings: The Return of the King\n",
      "\n",
      "Action, Adventure, Drama            \n",
      "8.9\n",
      "https://www.imdb.com/title/tt0167260/\n",
      "****************************************\n",
      "\n",
      "The Godfather\n",
      "\n",
      "Crime, Drama            \n",
      "9.2\n",
      "https://www.imdb.com/title/tt0068646/\n",
      "****************************************\n"
     ]
    }
   ],
   "source": [
    "def imdb_top(imdb_top_n):\n",
    "    base_url = (\n",
    "        f\"https://www.imdb.com/search/title?title_type=\"\n",
    "        f\"feature&sort=num_votes,desc&count={imdb_top_n}\"\n",
    "    )\n",
    "    source = BeautifulSoup(requests.get(base_url).content, \"html.parser\")\n",
    "    for i in source.findAll(\"div\", class_=\"lister-item mode-advanced\"):\n",
    "        print(\"\\n\" + i.h3.a.text)  # movie's name\n",
    "        print(i.find(\"span\", attrs={\"class\": \"genre\"}).text)  # genre\n",
    "        print(i.strong.text)  # movie's rating\n",
    "        print(f\"https://www.imdb.com{i.a.get('href')}\")  # movie's page link\n",
    "        print(\"*\" * 40)\n",
    "\n",
    "\n",
    "if __name__ == \"__main__\":\n",
    "    imdb_top(input(\"How many movies would you like to see? \"))"
   ]
  },
  {
   "cell_type": "code",
   "execution_count": null,
   "metadata": {},
   "outputs": [],
   "source": []
  }
 ],
 "metadata": {
  "kernelspec": {
   "display_name": "Python 3",
   "language": "python",
   "name": "python3"
  },
  "language_info": {
   "codemirror_mode": {
    "name": "ipython",
    "version": 3
   },
   "file_extension": ".py",
   "mimetype": "text/x-python",
   "name": "python",
   "nbconvert_exporter": "python",
   "pygments_lexer": "ipython3",
   "version": "3.8.3"
  }
 },
 "nbformat": 4,
 "nbformat_minor": 5
}
